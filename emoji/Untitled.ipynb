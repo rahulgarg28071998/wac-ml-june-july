{
 "cells": [
  {
   "cell_type": "code",
   "execution_count": 1,
   "metadata": {},
   "outputs": [
    {
     "name": "stdout",
     "output_type": "stream",
     "text": [
      "Requirement already satisfied: emoji in /Users/rahulgarg/opt/anaconda3/lib/python3.7/site-packages (0.5.4)\r\n"
     ]
    }
   ],
   "source": [
    "!pip install emoji\n",
    "import emoji\n",
    "import warnings\n",
    "warnings.filterwarnings(\"ignore\")"
   ]
  },
  {
   "cell_type": "code",
   "execution_count": 2,
   "metadata": {},
   "outputs": [
    {
     "name": "stdout",
     "output_type": "stream",
     "text": [
      "😠\n",
      "👌🏻\n"
     ]
    }
   ],
   "source": [
    "print(emoji.emojize(\":angry_face:\"))\n",
    "print(emoji.emojize(\":OK_hand_light_skin_tone:\"))"
   ]
  },
  {
   "cell_type": "code",
   "execution_count": 3,
   "metadata": {},
   "outputs": [],
   "source": [
    "import pandas as pd\n",
    "import numpy as np"
   ]
  },
  {
   "cell_type": "code",
   "execution_count": 4,
   "metadata": {},
   "outputs": [],
   "source": [
    "data=pd.read_csv(\"train_emoji.csv\" ,header = None)"
   ]
  },
  {
   "cell_type": "code",
   "execution_count": 5,
   "metadata": {},
   "outputs": [
    {
     "data": {
      "text/html": [
       "<div>\n",
       "<style scoped>\n",
       "    .dataframe tbody tr th:only-of-type {\n",
       "        vertical-align: middle;\n",
       "    }\n",
       "\n",
       "    .dataframe tbody tr th {\n",
       "        vertical-align: top;\n",
       "    }\n",
       "\n",
       "    .dataframe thead th {\n",
       "        text-align: right;\n",
       "    }\n",
       "</style>\n",
       "<table border=\"1\" class=\"dataframe\">\n",
       "  <thead>\n",
       "    <tr style=\"text-align: right;\">\n",
       "      <th></th>\n",
       "      <th>0</th>\n",
       "      <th>1</th>\n",
       "      <th>2</th>\n",
       "      <th>3</th>\n",
       "    </tr>\n",
       "  </thead>\n",
       "  <tbody>\n",
       "    <tr>\n",
       "      <th>0</th>\n",
       "      <td>never talk to me again</td>\n",
       "      <td>3</td>\n",
       "      <td>NaN</td>\n",
       "      <td>NaN</td>\n",
       "    </tr>\n",
       "    <tr>\n",
       "      <th>1</th>\n",
       "      <td>I am proud of your achievements</td>\n",
       "      <td>2</td>\n",
       "      <td>NaN</td>\n",
       "      <td>NaN</td>\n",
       "    </tr>\n",
       "    <tr>\n",
       "      <th>2</th>\n",
       "      <td>It is the worst day in my life</td>\n",
       "      <td>3</td>\n",
       "      <td>NaN</td>\n",
       "      <td>NaN</td>\n",
       "    </tr>\n",
       "    <tr>\n",
       "      <th>3</th>\n",
       "      <td>Miss you so much</td>\n",
       "      <td>0</td>\n",
       "      <td>NaN</td>\n",
       "      <td>[0]</td>\n",
       "    </tr>\n",
       "    <tr>\n",
       "      <th>4</th>\n",
       "      <td>food is life</td>\n",
       "      <td>4</td>\n",
       "      <td>NaN</td>\n",
       "      <td>NaN</td>\n",
       "    </tr>\n",
       "    <tr>\n",
       "      <th>5</th>\n",
       "      <td>I love you mum</td>\n",
       "      <td>0</td>\n",
       "      <td>NaN</td>\n",
       "      <td>NaN</td>\n",
       "    </tr>\n",
       "    <tr>\n",
       "      <th>6</th>\n",
       "      <td>Stop saying bullshit</td>\n",
       "      <td>3</td>\n",
       "      <td>NaN</td>\n",
       "      <td>NaN</td>\n",
       "    </tr>\n",
       "    <tr>\n",
       "      <th>7</th>\n",
       "      <td>congratulations on your acceptance</td>\n",
       "      <td>2</td>\n",
       "      <td>NaN</td>\n",
       "      <td>NaN</td>\n",
       "    </tr>\n",
       "    <tr>\n",
       "      <th>8</th>\n",
       "      <td>The assignment is too long</td>\n",
       "      <td>3</td>\n",
       "      <td>NaN</td>\n",
       "      <td>NaN</td>\n",
       "    </tr>\n",
       "    <tr>\n",
       "      <th>9</th>\n",
       "      <td>I want to go play</td>\n",
       "      <td>1</td>\n",
       "      <td>NaN</td>\n",
       "      <td>[3]</td>\n",
       "    </tr>\n",
       "  </tbody>\n",
       "</table>\n",
       "</div>"
      ],
      "text/plain": [
       "                                    0  1   2     3\n",
       "0              never talk to me again  3 NaN   NaN\n",
       "1     I am proud of your achievements  2 NaN   NaN\n",
       "2      It is the worst day in my life  3 NaN   NaN\n",
       "3                    Miss you so much  0 NaN   [0]\n",
       "4                        food is life  4 NaN   NaN\n",
       "5                      I love you mum  0 NaN   NaN\n",
       "6                Stop saying bullshit  3 NaN   NaN\n",
       "7  congratulations on your acceptance  2 NaN   NaN\n",
       "8         The assignment is too long   3 NaN   NaN\n",
       "9                   I want to go play  1 NaN   [3]"
      ]
     },
     "execution_count": 5,
     "metadata": {},
     "output_type": "execute_result"
    }
   ],
   "source": [
    "data.head(n=10)"
   ]
  },
  {
   "cell_type": "code",
   "execution_count": 6,
   "metadata": {},
   "outputs": [],
   "source": [
    "emoji_dict = {\n",
    "    0:\":beating_heart:\",\n",
    "    1:\":baseball:\",\n",
    "    2:\":beaming_face_with_smiling_eyes:\",\n",
    "    3:\":disappointed_face:\",\n",
    "    4:\":fork_and_knife:\"    \n",
    "}"
   ]
  },
  {
   "cell_type": "code",
   "execution_count": 7,
   "metadata": {},
   "outputs": [
    {
     "name": "stdout",
     "output_type": "stream",
     "text": [
      "💓\n",
      "⚾\n",
      "😁\n",
      "😞\n",
      "🍴\n"
     ]
    }
   ],
   "source": [
    "for ix in emoji_dict.values():\n",
    "    print(emoji.emojize(ix))"
   ]
  },
  {
   "cell_type": "code",
   "execution_count": 8,
   "metadata": {},
   "outputs": [],
   "source": [
    "X_train = data[0]\n",
    "Y_train = data[1]"
   ]
  },
  {
   "cell_type": "code",
   "execution_count": 9,
   "metadata": {},
   "outputs": [
    {
     "name": "stdout",
     "output_type": "stream",
     "text": [
      "(132,) (132,)\n"
     ]
    }
   ],
   "source": [
    "print(X_train.shape , Y_train.shape)"
   ]
  },
  {
   "cell_type": "code",
   "execution_count": 10,
   "metadata": {},
   "outputs": [],
   "source": [
    "for ix in range(132):\n",
    "    X_train[ix] = X_train[ix].lower().split()"
   ]
  },
  {
   "cell_type": "code",
   "execution_count": 11,
   "metadata": {},
   "outputs": [
    {
     "data": {
      "text/plain": [
       "['i', 'am', 'proud', 'of', 'your', 'achievements']"
      ]
     },
     "execution_count": 11,
     "metadata": {},
     "output_type": "execute_result"
    }
   ],
   "source": [
    "X_train[1]"
   ]
  },
  {
   "cell_type": "code",
   "execution_count": 12,
   "metadata": {},
   "outputs": [],
   "source": [
    "def read_glove_vecs(glove_file):\n",
    "    with open(glove_file, 'r' , encoding = 'utf-8') as f:\n",
    "        word = set()\n",
    "        word_to_vec_map = {}\n",
    "        for line in f:\n",
    "            line = line.strip().split()\n",
    "            curr_word = line[0]\n",
    "            word.add(curr_word)\n",
    "            word_to_vec_map[curr_word] = np.array(line[1:],dtype = np.float64)\n",
    "        i = 1\n",
    "        words_to_index ={}\n",
    "        index_to_words ={}\n",
    "        for w in sorted(word):\n",
    "            words_to_index[w] = i\n",
    "            index_to_words[i] = w\n",
    "            i+=1\n",
    "        return words_to_index , index_to_words , word_to_vec_map"
   ]
  },
  {
   "cell_type": "code",
   "execution_count": 13,
   "metadata": {},
   "outputs": [],
   "source": [
    "words_to_index , index_to_words , word_to_vec_map = read_glove_vecs(\"glove.6B.50d.txt\")"
   ]
  },
  {
   "cell_type": "code",
   "execution_count": 14,
   "metadata": {},
   "outputs": [
    {
     "data": {
      "text/plain": [
       "array([ 1.1891e-01,  1.5255e-01, -8.2073e-02, -7.4144e-01,  7.5917e-01,\n",
       "       -4.8328e-01, -3.1009e-01,  5.1476e-01, -9.8708e-01,  6.1757e-04,\n",
       "       -1.5043e-01,  8.3770e-01, -1.0797e+00, -5.1460e-01,  1.3188e+00,\n",
       "        6.2007e-01,  1.3779e-01,  4.7108e-01, -7.2874e-02, -7.2675e-01,\n",
       "       -7.4116e-01,  7.5263e-01,  8.8180e-01,  2.9561e-01,  1.3548e+00,\n",
       "       -2.5701e+00, -1.3523e+00,  4.5880e-01,  1.0068e+00, -1.1856e+00,\n",
       "        3.4737e+00,  7.7898e-01, -7.2929e-01,  2.5102e-01, -2.6156e-01,\n",
       "       -3.4684e-01,  5.5841e-01,  7.5098e-01,  4.9830e-01, -2.6823e-01,\n",
       "       -2.7443e-03, -1.8298e-02, -2.8096e-01,  5.5318e-01,  3.7706e-02,\n",
       "        1.8555e-01, -1.5025e-01, -5.7512e-01, -2.6671e-01,  9.2121e-01])"
      ]
     },
     "execution_count": 14,
     "metadata": {},
     "output_type": "execute_result"
    }
   ],
   "source": [
    "word_to_vec_map[\"i\"]"
   ]
  },
  {
   "cell_type": "code",
   "execution_count": 15,
   "metadata": {},
   "outputs": [],
   "source": [
    "def avg_vector(words):\n",
    "    ans  = word_to_vec_map[words[0]]\n",
    "    for i in range(1, len(words)):\n",
    "        ans = np.add(ans , word_to_vec_map[words[i]])\n",
    "    ans = ans/float(len(words))\n",
    "    return ans\n"
   ]
  },
  {
   "cell_type": "code",
   "execution_count": 16,
   "metadata": {},
   "outputs": [
    {
     "name": "stdout",
     "output_type": "stream",
     "text": [
      "[ 0.00563117  0.59711333 -0.13939717 -0.384325    0.74846167 -0.34453833\n",
      " -0.09402833  0.13647617 -0.27891     0.07412743 -0.05458783  0.26998333\n",
      " -0.40014283 -0.29957133  0.5051755   0.13981333  0.06849917  0.53107067\n",
      "  0.07820433 -0.29929733 -0.27029933  0.497221    0.24299683  0.03004167\n",
      "  0.92919667 -1.6411     -1.137715    0.00513     0.459105   -0.29221167\n",
      "  2.87481667  0.687305   -0.307625   -0.16341317 -0.2818225  -0.1250206\n",
      "  0.139661    0.345859   -0.045965   -0.339121   -0.02768405 -0.36635967\n",
      " -0.164233    0.32527533 -0.164843    0.216988   -0.32414    -0.06701233\n",
      " -0.025773    0.32180167]\n",
      "['i', 'am', 'proud', 'of', 'your', 'achievements']\n"
     ]
    }
   ],
   "source": [
    "print(avg_vector(X_train[1]))\n",
    "print(X_train[1])"
   ]
  },
  {
   "cell_type": "code",
   "execution_count": 17,
   "metadata": {},
   "outputs": [],
   "source": [
    "X_numbers = np.zeros((132,50))\n",
    "for i in  range(132):\n",
    "    X_numbers[i] = avg_vector(X_train[i])"
   ]
  },
  {
   "cell_type": "code",
   "execution_count": null,
   "metadata": {},
   "outputs": [],
   "source": []
  },
  {
   "cell_type": "code",
   "execution_count": 18,
   "metadata": {},
   "outputs": [
    {
     "name": "stderr",
     "output_type": "stream",
     "text": [
      "Using TensorFlow backend.\n"
     ]
    }
   ],
   "source": [
    "from keras.models import Sequential\n",
    "from keras.layers import Dense , Input , Activation\n",
    "from keras.utils import to_categorical"
   ]
  },
  {
   "cell_type": "code",
   "execution_count": 19,
   "metadata": {},
   "outputs": [
    {
     "name": "stdout",
     "output_type": "stream",
     "text": [
      "WARNING:tensorflow:From /Users/rahulgarg/opt/anaconda3/lib/python3.7/site-packages/keras/backend/tensorflow_backend.py:68: The name tf.get_default_graph is deprecated. Please use tf.compat.v1.get_default_graph instead.\n",
      "\n",
      "WARNING:tensorflow:From /Users/rahulgarg/opt/anaconda3/lib/python3.7/site-packages/keras/backend/tensorflow_backend.py:507: The name tf.placeholder is deprecated. Please use tf.compat.v1.placeholder instead.\n",
      "\n",
      "WARNING:tensorflow:From /Users/rahulgarg/opt/anaconda3/lib/python3.7/site-packages/keras/backend/tensorflow_backend.py:3831: The name tf.random_uniform is deprecated. Please use tf.random.uniform instead.\n",
      "\n"
     ]
    }
   ],
   "source": [
    "model = Sequential()\n",
    "\n",
    "model.add(Dense(10,activation=\"relu\" ,  input_shape=(50,)))\n",
    "model.add(Dense(24,activation=\"relu\"))\n",
    "model.add(Dense(16,activation=\"relu\"))\n",
    "model.add(Dense(8,activation=\"relu\"))\n",
    "model.add(Dense(5 , activation=\"softmax\"))"
   ]
  },
  {
   "cell_type": "code",
   "execution_count": 20,
   "metadata": {},
   "outputs": [
    {
     "name": "stdout",
     "output_type": "stream",
     "text": [
      "WARNING:tensorflow:From /Users/rahulgarg/opt/anaconda3/lib/python3.7/site-packages/keras/optimizers.py:757: The name tf.train.Optimizer is deprecated. Please use tf.compat.v1.train.Optimizer instead.\n",
      "\n",
      "WARNING:tensorflow:From /Users/rahulgarg/opt/anaconda3/lib/python3.7/site-packages/keras/backend/tensorflow_backend.py:3008: The name tf.log is deprecated. Please use tf.math.log instead.\n",
      "\n"
     ]
    }
   ],
   "source": [
    "model.compile(optimizer=\"adam\" , loss= \"categorical_crossentropy\" , metrics=[\"accuracy\"])"
   ]
  },
  {
   "cell_type": "code",
   "execution_count": 21,
   "metadata": {},
   "outputs": [],
   "source": [
    "ytrain = to_categorical(Y_train)\n"
   ]
  },
  {
   "cell_type": "code",
   "execution_count": 22,
   "metadata": {},
   "outputs": [
    {
     "name": "stdout",
     "output_type": "stream",
     "text": [
      "WARNING:tensorflow:From /Users/rahulgarg/opt/anaconda3/lib/python3.7/site-packages/tensorflow/python/ops/math_grad.py:1250: add_dispatch_support.<locals>.wrapper (from tensorflow.python.ops.array_ops) is deprecated and will be removed in a future version.\n",
      "Instructions for updating:\n",
      "Use tf.where in 2.0, which has the same broadcast rule as np.where\n",
      "WARNING:tensorflow:From /Users/rahulgarg/opt/anaconda3/lib/python3.7/site-packages/keras/backend/tensorflow_backend.py:976: The name tf.assign_add is deprecated. Please use tf.compat.v1.assign_add instead.\n",
      "\n",
      "Epoch 1/100\n",
      "132/132 [==============================] - 0s 3ms/step - loss: 1.6346 - acc: 0.1667\n",
      "Epoch 2/100\n",
      "132/132 [==============================] - 0s 213us/step - loss: 1.6215 - acc: 0.1667\n",
      "Epoch 3/100\n",
      "132/132 [==============================] - 0s 179us/step - loss: 1.6097 - acc: 0.1667\n",
      "Epoch 4/100\n",
      "132/132 [==============================] - 0s 156us/step - loss: 1.6001 - acc: 0.1667\n",
      "Epoch 5/100\n",
      "132/132 [==============================] - 0s 137us/step - loss: 1.5930 - acc: 0.1667\n",
      "Epoch 6/100\n",
      "132/132 [==============================] - 0s 102us/step - loss: 1.5859 - acc: 0.1742\n",
      "Epoch 7/100\n",
      "132/132 [==============================] - 0s 113us/step - loss: 1.5784 - acc: 0.1894\n",
      "Epoch 8/100\n",
      "132/132 [==============================] - 0s 82us/step - loss: 1.5726 - acc: 0.2045\n",
      "Epoch 9/100\n",
      "132/132 [==============================] - 0s 111us/step - loss: 1.5665 - acc: 0.2273\n",
      "Epoch 10/100\n",
      "132/132 [==============================] - 0s 258us/step - loss: 1.5608 - acc: 0.2576\n",
      "Epoch 11/100\n",
      "132/132 [==============================] - 0s 193us/step - loss: 1.5537 - acc: 0.2803\n",
      "Epoch 12/100\n",
      "132/132 [==============================] - 0s 121us/step - loss: 1.5471 - acc: 0.3106\n",
      "Epoch 13/100\n",
      "132/132 [==============================] - 0s 143us/step - loss: 1.5403 - acc: 0.3258\n",
      "Epoch 14/100\n",
      "132/132 [==============================] - 0s 111us/step - loss: 1.5324 - acc: 0.3333\n",
      "Epoch 15/100\n",
      "132/132 [==============================] - 0s 92us/step - loss: 1.5243 - acc: 0.3485\n",
      "Epoch 16/100\n",
      "132/132 [==============================] - 0s 124us/step - loss: 1.5162 - acc: 0.3712\n",
      "Epoch 17/100\n",
      "132/132 [==============================] - 0s 111us/step - loss: 1.5089 - acc: 0.3864\n",
      "Epoch 18/100\n",
      "132/132 [==============================] - 0s 134us/step - loss: 1.5002 - acc: 0.4091\n",
      "Epoch 19/100\n",
      "132/132 [==============================] - 0s 167us/step - loss: 1.4912 - acc: 0.4318\n",
      "Epoch 20/100\n",
      "132/132 [==============================] - 0s 163us/step - loss: 1.4821 - acc: 0.4167\n",
      "Epoch 21/100\n",
      "132/132 [==============================] - 0s 203us/step - loss: 1.4723 - acc: 0.4167\n",
      "Epoch 22/100\n",
      "132/132 [==============================] - 0s 133us/step - loss: 1.4646 - acc: 0.4621\n",
      "Epoch 23/100\n",
      "132/132 [==============================] - 0s 159us/step - loss: 1.4549 - acc: 0.4621\n",
      "Epoch 24/100\n",
      "132/132 [==============================] - 0s 82us/step - loss: 1.4445 - acc: 0.4470\n",
      "Epoch 25/100\n",
      "132/132 [==============================] - 0s 104us/step - loss: 1.4347 - acc: 0.4697\n",
      "Epoch 26/100\n",
      "132/132 [==============================] - 0s 124us/step - loss: 1.4282 - acc: 0.4545\n",
      "Epoch 27/100\n",
      "132/132 [==============================] - 0s 89us/step - loss: 1.4141 - acc: 0.4773\n",
      "Epoch 28/100\n",
      "132/132 [==============================] - 0s 108us/step - loss: 1.4040 - acc: 0.4924\n",
      "Epoch 29/100\n",
      "132/132 [==============================] - 0s 216us/step - loss: 1.3992 - acc: 0.4848\n",
      "Epoch 30/100\n",
      "132/132 [==============================] - 0s 111us/step - loss: 1.3847 - acc: 0.5076\n",
      "Epoch 31/100\n",
      "132/132 [==============================] - 0s 182us/step - loss: 1.3738 - acc: 0.5000\n",
      "Epoch 32/100\n",
      "132/132 [==============================] - 0s 74us/step - loss: 1.3614 - acc: 0.5455\n",
      "Epoch 33/100\n",
      "132/132 [==============================] - 0s 96us/step - loss: 1.3531 - acc: 0.5303\n",
      "Epoch 34/100\n",
      "132/132 [==============================] - 0s 135us/step - loss: 1.3421 - acc: 0.5379\n",
      "Epoch 35/100\n",
      "132/132 [==============================] - 0s 208us/step - loss: 1.3272 - acc: 0.5530\n",
      "Epoch 36/100\n",
      "132/132 [==============================] - 0s 149us/step - loss: 1.3183 - acc: 0.5303\n",
      "Epoch 37/100\n",
      "132/132 [==============================] - 0s 151us/step - loss: 1.3052 - acc: 0.5379\n",
      "Epoch 38/100\n",
      "132/132 [==============================] - 0s 176us/step - loss: 1.2945 - acc: 0.5303\n",
      "Epoch 39/100\n",
      "132/132 [==============================] - 0s 184us/step - loss: 1.2837 - acc: 0.5379\n",
      "Epoch 40/100\n",
      "132/132 [==============================] - 0s 111us/step - loss: 1.2756 - acc: 0.5455\n",
      "Epoch 41/100\n",
      "132/132 [==============================] - 0s 65us/step - loss: 1.2655 - acc: 0.5379\n",
      "Epoch 42/100\n",
      "132/132 [==============================] - 0s 118us/step - loss: 1.2551 - acc: 0.5455\n",
      "Epoch 43/100\n",
      "132/132 [==============================] - 0s 105us/step - loss: 1.2454 - acc: 0.5379\n",
      "Epoch 44/100\n",
      "132/132 [==============================] - 0s 273us/step - loss: 1.2309 - acc: 0.5379\n",
      "Epoch 45/100\n",
      "132/132 [==============================] - 0s 198us/step - loss: 1.2208 - acc: 0.5455\n",
      "Epoch 46/100\n",
      "132/132 [==============================] - 0s 72us/step - loss: 1.2164 - acc: 0.5152\n",
      "Epoch 47/100\n",
      "132/132 [==============================] - 0s 208us/step - loss: 1.1999 - acc: 0.5455\n",
      "Epoch 48/100\n",
      "132/132 [==============================] - 0s 127us/step - loss: 1.1873 - acc: 0.5530\n",
      "Epoch 49/100\n",
      "132/132 [==============================] - 0s 105us/step - loss: 1.1816 - acc: 0.5152\n",
      "Epoch 50/100\n",
      "132/132 [==============================] - 0s 77us/step - loss: 1.1680 - acc: 0.5227\n",
      "Epoch 51/100\n",
      "132/132 [==============================] - 0s 207us/step - loss: 1.1559 - acc: 0.5379\n",
      "Epoch 52/100\n",
      "132/132 [==============================] - 0s 176us/step - loss: 1.1460 - acc: 0.5152\n",
      "Epoch 53/100\n",
      "132/132 [==============================] - 0s 158us/step - loss: 1.1368 - acc: 0.5227\n",
      "Epoch 54/100\n",
      "132/132 [==============================] - 0s 131us/step - loss: 1.1231 - acc: 0.5303\n",
      "Epoch 55/100\n",
      "132/132 [==============================] - 0s 124us/step - loss: 1.1120 - acc: 0.5606\n",
      "Epoch 56/100\n",
      "132/132 [==============================] - 0s 108us/step - loss: 1.1090 - acc: 0.5303\n",
      "Epoch 57/100\n",
      "132/132 [==============================] - 0s 64us/step - loss: 1.0949 - acc: 0.5530\n",
      "Epoch 58/100\n",
      "132/132 [==============================] - 0s 77us/step - loss: 1.0782 - acc: 0.5530\n",
      "Epoch 59/100\n",
      "132/132 [==============================] - 0s 76us/step - loss: 1.0706 - acc: 0.5303\n",
      "Epoch 60/100\n",
      "132/132 [==============================] - 0s 69us/step - loss: 1.0591 - acc: 0.5530\n",
      "Epoch 61/100\n",
      "132/132 [==============================] - 0s 71us/step - loss: 1.0455 - acc: 0.5379\n",
      "Epoch 62/100\n",
      "132/132 [==============================] - 0s 465us/step - loss: 1.0358 - acc: 0.5606\n",
      "Epoch 63/100\n",
      "132/132 [==============================] - 0s 105us/step - loss: 1.0254 - acc: 0.5682\n",
      "Epoch 64/100\n",
      "132/132 [==============================] - 0s 168us/step - loss: 1.0147 - acc: 0.5758\n",
      "Epoch 65/100\n",
      "132/132 [==============================] - 0s 176us/step - loss: 1.0062 - acc: 0.6364\n",
      "Epoch 66/100\n",
      "132/132 [==============================] - 0s 247us/step - loss: 0.9960 - acc: 0.6364\n",
      "Epoch 67/100\n",
      "132/132 [==============================] - 0s 389us/step - loss: 0.9817 - acc: 0.6136\n",
      "Epoch 68/100\n",
      "132/132 [==============================] - 0s 154us/step - loss: 0.9664 - acc: 0.6364\n",
      "Epoch 69/100\n",
      "132/132 [==============================] - 0s 150us/step - loss: 0.9422 - acc: 0.7045\n",
      "Epoch 70/100\n",
      "132/132 [==============================] - 0s 122us/step - loss: 0.9315 - acc: 0.6742\n",
      "Epoch 71/100\n",
      "132/132 [==============================] - 0s 86us/step - loss: 0.9055 - acc: 0.6515\n",
      "Epoch 72/100\n",
      "132/132 [==============================] - 0s 140us/step - loss: 0.8979 - acc: 0.6288\n",
      "Epoch 73/100\n",
      "132/132 [==============================] - 0s 111us/step - loss: 0.8730 - acc: 0.7045\n",
      "Epoch 74/100\n",
      "132/132 [==============================] - 0s 135us/step - loss: 0.8321 - acc: 0.7348\n",
      "Epoch 75/100\n",
      "132/132 [==============================] - 0s 175us/step - loss: 0.8167 - acc: 0.6591\n",
      "Epoch 76/100\n",
      "132/132 [==============================] - 0s 154us/step - loss: 0.7911 - acc: 0.7273\n",
      "Epoch 77/100\n",
      "132/132 [==============================] - 0s 93us/step - loss: 0.7898 - acc: 0.7121\n",
      "Epoch 78/100\n"
     ]
    },
    {
     "name": "stdout",
     "output_type": "stream",
     "text": [
      "132/132 [==============================] - 0s 152us/step - loss: 0.7392 - acc: 0.7727\n",
      "Epoch 79/100\n",
      "132/132 [==============================] - 0s 140us/step - loss: 0.7366 - acc: 0.7273\n",
      "Epoch 80/100\n",
      "132/132 [==============================] - 0s 107us/step - loss: 0.7133 - acc: 0.7500\n",
      "Epoch 81/100\n",
      "132/132 [==============================] - 0s 79us/step - loss: 0.6861 - acc: 0.8106\n",
      "Epoch 82/100\n",
      "132/132 [==============================] - 0s 82us/step - loss: 0.6649 - acc: 0.7955\n",
      "Epoch 83/100\n",
      "132/132 [==============================] - 0s 79us/step - loss: 0.6618 - acc: 0.7879\n",
      "Epoch 84/100\n",
      "132/132 [==============================] - 0s 194us/step - loss: 0.6401 - acc: 0.8106\n",
      "Epoch 85/100\n",
      "132/132 [==============================] - 0s 84us/step - loss: 0.6102 - acc: 0.8333\n",
      "Epoch 86/100\n",
      "132/132 [==============================] - 0s 162us/step - loss: 0.6054 - acc: 0.8258\n",
      "Epoch 87/100\n",
      "132/132 [==============================] - 0s 103us/step - loss: 0.5793 - acc: 0.8409\n",
      "Epoch 88/100\n",
      "132/132 [==============================] - 0s 124us/step - loss: 0.5852 - acc: 0.8409\n",
      "Epoch 89/100\n",
      "132/132 [==============================] - 0s 84us/step - loss: 0.5659 - acc: 0.8333\n",
      "Epoch 90/100\n",
      "132/132 [==============================] - 0s 102us/step - loss: 0.5500 - acc: 0.8561\n",
      "Epoch 91/100\n",
      "132/132 [==============================] - 0s 106us/step - loss: 0.5403 - acc: 0.8333\n",
      "Epoch 92/100\n",
      "132/132 [==============================] - 0s 96us/step - loss: 0.5282 - acc: 0.8333\n",
      "Epoch 93/100\n",
      "132/132 [==============================] - 0s 217us/step - loss: 0.5143 - acc: 0.8333\n",
      "Epoch 94/100\n",
      "132/132 [==============================] - 0s 176us/step - loss: 0.5106 - acc: 0.8333\n",
      "Epoch 95/100\n",
      "132/132 [==============================] - 0s 600us/step - loss: 0.5008 - acc: 0.8409\n",
      "Epoch 96/100\n",
      "132/132 [==============================] - 0s 104us/step - loss: 0.5007 - acc: 0.8409\n",
      "Epoch 97/100\n",
      "132/132 [==============================] - 0s 105us/step - loss: 0.5049 - acc: 0.8182\n",
      "Epoch 98/100\n",
      "132/132 [==============================] - 0s 95us/step - loss: 0.4824 - acc: 0.8561\n",
      "Epoch 99/100\n",
      "132/132 [==============================] - 0s 70us/step - loss: 0.4692 - acc: 0.8712\n",
      "Epoch 100/100\n",
      "132/132 [==============================] - 0s 80us/step - loss: 0.4664 - acc: 0.8712\n"
     ]
    },
    {
     "data": {
      "text/plain": [
       "<keras.callbacks.History at 0x7fd3f5010610>"
      ]
     },
     "execution_count": 22,
     "metadata": {},
     "output_type": "execute_result"
    }
   ],
   "source": [
    "model.fit(X_numbers , ytrain , epochs=100)"
   ]
  },
  {
   "cell_type": "code",
   "execution_count": 23,
   "metadata": {},
   "outputs": [],
   "source": [
    "output = np.argmax(model.predict(X_numbers) , axis=1)"
   ]
  },
  {
   "cell_type": "code",
   "execution_count": 24,
   "metadata": {},
   "outputs": [
    {
     "name": "stdout",
     "output_type": "stream",
     "text": [
      "0    3\n",
      "1    2\n",
      "2    3\n",
      "3    0\n",
      "4    4\n",
      "5    0\n",
      "6    3\n",
      "7    2\n",
      "8    3\n",
      "9    1\n",
      "Name: 1, dtype: int64\n"
     ]
    }
   ],
   "source": [
    "print(Y_train[:10])"
   ]
  },
  {
   "cell_type": "code",
   "execution_count": 25,
   "metadata": {},
   "outputs": [
    {
     "data": {
      "text/plain": [
       "array([0, 2, 3, 0, 4, 0, 3, 2, 0, 1])"
      ]
     },
     "execution_count": 25,
     "metadata": {},
     "output_type": "execute_result"
    }
   ],
   "source": [
    "output[:10]"
   ]
  },
  {
   "cell_type": "code",
   "execution_count": 26,
   "metadata": {},
   "outputs": [],
   "source": [
    "text = \"i hate cooking\"\n",
    "avg_text = avg_vector(text.split())\n",
    "avg_v = avg_text.reshape(1,50)"
   ]
  },
  {
   "cell_type": "code",
   "execution_count": 27,
   "metadata": {},
   "outputs": [
    {
     "name": "stdout",
     "output_type": "stream",
     "text": [
      "4\n",
      "🍴\n"
     ]
    }
   ],
   "source": [
    "emoji_predict = np.argmax(model.predict(avg_v))\n",
    "print(emoji_predict)\n",
    "print(emoji.emojize(emoji_dict[emoji_predict]))"
   ]
  },
  {
   "cell_type": "code",
   "execution_count": null,
   "metadata": {},
   "outputs": [],
   "source": []
  },
  {
   "cell_type": "code",
   "execution_count": null,
   "metadata": {},
   "outputs": [],
   "source": []
  }
 ],
 "metadata": {
  "kernelspec": {
   "display_name": "Python 3",
   "language": "python",
   "name": "python3"
  },
  "language_info": {
   "codemirror_mode": {
    "name": "ipython",
    "version": 3
   },
   "file_extension": ".py",
   "mimetype": "text/x-python",
   "name": "python",
   "nbconvert_exporter": "python",
   "pygments_lexer": "ipython3",
   "version": "3.7.6"
  }
 },
 "nbformat": 4,
 "nbformat_minor": 4
}
